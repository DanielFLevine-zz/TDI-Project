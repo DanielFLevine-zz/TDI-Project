{
  "nbformat": 4,
  "nbformat_minor": 0,
  "metadata": {
    "colab": {
      "name": "Twitch Bidirectional LSTM 1 Layer.ipynb",
      "provenance": [],
      "collapsed_sections": [],
      "toc_visible": true
    },
    "kernelspec": {
      "name": "python3",
      "display_name": "Python 3"
    },
    "accelerator": "GPU"
  },
  "cells": [
    {
      "cell_type": "markdown",
      "metadata": {
        "id": "Cd2KBGnZD25p",
        "colab_type": "text"
      },
      "source": [
        "# Predicting Twitch Emotes Using a Bidirectional LSTM\n",
        "\n",
        "We implement a bidirectional LSTM neural network with one hidden layer in order to predict the emote associated to a Twitch chat message. The model used here is very rough version of what is described in the article [Towards the Understanding of Gaming Audiences by Modeling Twitch Emotes](https://pdfs.semanticscholar.org/1260/f76d10ec66dda257070ce4dcdbab800ec501.pdf) by Barbieri et al. Many parameters in this test were chosen arbitrarily, so there is a lot of room for improvement. At the end of this notebook, we evaluate the accuracy of the model by graphing epochs vs precision, recall, and F1 and displaying a confusion matrix."
      ]
    },
    {
      "cell_type": "markdown",
      "metadata": {
        "id": "-0_fb4T1IlFF",
        "colab_type": "text"
      },
      "source": [
        "Ignore the following if you are not using Google Colab."
      ]
    },
    {
      "cell_type": "code",
      "metadata": {
        "id": "dzedaptDDrqY",
        "colab_type": "code",
        "colab": {}
      },
      "source": [
        "#Comment this out if not in Google Colab\n",
        "%tensorflow_version 1.x"
      ],
      "execution_count": 0,
      "outputs": []
    },
    {
      "cell_type": "code",
      "metadata": {
        "id": "X9hJmizZBdPk",
        "colab_type": "code",
        "colab": {}
      },
      "source": [
        "from __future__ import print_function\n",
        "import numpy as np\n",
        "\n",
        "from keras.preprocessing import sequence\n",
        "from keras.models import Sequential\n",
        "from keras.layers import Dense, Dropout, Embedding, LSTM, Bidirectional\n",
        "from keras.datasets import imdb\n",
        "import pandas as pd\n",
        "import os"
      ],
      "execution_count": 0,
      "outputs": []
    },
    {
      "cell_type": "markdown",
      "metadata": {
        "id": "adJuOSrTI1sS",
        "colab_type": "text"
      },
      "source": [
        "Ignore this too if you are not using Google Colab."
      ]
    },
    {
      "cell_type": "code",
      "metadata": {
        "id": "7_4IsNHqBg8r",
        "colab_type": "code",
        "colab": {}
      },
      "source": [
        "from google.colab import drive\n",
        "drive.mount('/content/drive')"
      ],
      "execution_count": 0,
      "outputs": []
    },
    {
      "cell_type": "code",
      "metadata": {
        "id": "9glE9KbLVKr8",
        "colab_type": "code",
        "colab": {}
      },
      "source": [
        "%cd /content/drive/My\\ Drive/"
      ],
      "execution_count": 0,
      "outputs": []
    },
    {
      "cell_type": "markdown",
      "metadata": {
        "id": "5RzZk6lyI5Su",
        "colab_type": "text"
      },
      "source": [
        "### Preprocessing\n",
        "\n",
        "We need to heavily preprocess the text data before using it to train a classifier. Following Barbieri et al.'s article, we tokenize our data using the [CMU Noah's Ark tokenizer](http://www.cs.cmu.edu/~ark/TweetNLP/) developed for twitter. In the preprocessing file, we use a [python version of the tokenizer](https://pypi.org/project/twokenize/). After tokenizing, we need to remove hyperlinks, non-ASCII characters, short messages, and lowercase all words. Then we remove messages containing more than one distinct emote, and label the remaining messages as the emote contained in it. In order to avoid cheating while training our classifier, we also remove the emotes in the message. The integer argument is a threshold for which emotes to keep. We only keep emotes that appear in at least 1000 different messages after processing the data. If we apply this to summit1g's file, we obtain 4 different emotes. FOr example, if we change the threshold to 100, we get 32 different emotes."
      ]
    },
    {
      "cell_type": "code",
      "metadata": {
        "id": "82yiq3PlBm-2",
        "colab_type": "code",
        "outputId": "8b683135-dcd2-443d-8c20-b2db86cbb6eb",
        "colab": {
          "base_uri": "https://localhost:8080/",
          "height": 255
        }
      },
      "source": [
        "import preprocessing\n",
        "df = preprocessing.emotes_to_labels('summit1g', 1000)\n",
        "print(df)"
      ],
      "execution_count": 0,
      "outputs": [
        {
          "output_type": "stream",
          "text": [
            "                                                      body  lul  ...  kappa  4head\n",
            "21       [@thesocomsniper, if, you, think, oscp, is, ex...    1  ...      0      0\n",
            "238      [@summit1g, lot, of, stupid, people, on, the, ...    1  ...      0      0\n",
            "260                           [summit, not, in, the, bath]    1  ...      0      0\n",
            "367              [@summit1g, ramhh, has, a, better, badge]    1  ...      0      0\n",
            "610      [@summit1g, my, name, is, h1z1, and, im, utter...    1  ...      0      0\n",
            "...                                                    ...  ...  ...    ...    ...\n",
            "1349441                         [break, monitor, or, riot]    0  ...      1      0\n",
            "1349515                             [pleaaaaassseeee, !!!]    0  ...      0      0\n",
            "1349580   [hey, you, gonna, punch, your, camera, again, ?]    0  ...      1      0\n",
            "1349613            [@summit1g, punch, the, monitor, again]    1  ...      0      0\n",
            "1349706              [the, stupid, shit, board, i, forgot]    1  ...      0      0\n",
            "\n",
            "[20903 rows x 5 columns]\n"
          ],
          "name": "stdout"
        }
      ]
    },
    {
      "cell_type": "markdown",
      "metadata": {
        "id": "hU8-XbmuLm0q",
        "colab_type": "text"
      },
      "source": [
        "Next, we need to vectorize our lists before passing them through an embedding layer. First, we convert the tokens back into a string keeping the tokens separated by a space. That way, when we retokenize, we do not lose the effect of CMU's tokenizer. Then we transform our dataframe column into a list."
      ]
    },
    {
      "cell_type": "code",
      "metadata": {
        "id": "JxaFGGF7CB46",
        "colab_type": "code",
        "colab": {}
      },
      "source": [
        "Z = df['body'].values.tolist()\n",
        "Z = [' '.join(i) for i in Z]"
      ],
      "execution_count": 0,
      "outputs": []
    },
    {
      "cell_type": "markdown",
      "metadata": {
        "id": "SCs5OWs1Mk4R",
        "colab_type": "text"
      },
      "source": [
        "Using the tokenizer from keras, we tokenize and keep the 5000 most frequent words, using 5001 for our out-of-vocabulary token. Then we convert the tokens to a sequence using their corresponding integer ids."
      ]
    },
    {
      "cell_type": "code",
      "metadata": {
        "id": "F1wBuhZwBZA4",
        "colab_type": "code",
        "colab": {}
      },
      "source": [
        "from keras.preprocessing.text import Tokenizer\n",
        "t = Tokenizer(num_words=5000, filters='', split=' ', oov_token=5001)\n",
        "t.fit_on_texts(Z)\n",
        "sequences = t.texts_to_sequences(Z)"
      ],
      "execution_count": 0,
      "outputs": []
    },
    {
      "cell_type": "markdown",
      "metadata": {
        "id": "zx9aXws8NNIi",
        "colab_type": "text"
      },
      "source": [
        "Now we are ready to split our training set and pad our sequences. The values for top_words and max_words can be changed as desired."
      ]
    },
    {
      "cell_type": "code",
      "metadata": {
        "id": "9jTty8iIJwcV",
        "colab_type": "code",
        "colab": {}
      },
      "source": [
        "from sklearn.model_selection import train_test_split\n",
        "X = sequences\n",
        "y = np.array(df.iloc[:,1:len(df.columns)])\n",
        "X_train, X_test, y_train, y_test = train_test_split(X, y, test_size=0.5, random_state=42, stratify = y)\n",
        "\n",
        "top_words = 5000\n",
        "max_words = 20\n",
        "X_train = sequence.pad_sequences(X_train, maxlen=max_words)\n",
        "X_test = sequence.pad_sequences(X_test, maxlen=max_words)"
      ],
      "execution_count": 0,
      "outputs": []
    },
    {
      "cell_type": "markdown",
      "metadata": {
        "id": "NhuYpVVZOCOE",
        "colab_type": "text"
      },
      "source": [
        "One important observation is that our data is imbalanced. Some emotes appear far more often than others, even after cleaning the data. We use an oversampling technique called [Synthetic Minority Over-sampling Technique](https://jair.org/index.php/jair/article/view/10302/24590) (SMOTE). We need to apply it to both our training and testing data in order to get meaningful evaluation data."
      ]
    },
    {
      "cell_type": "code",
      "metadata": {
        "id": "gIPl3zKG5E4A",
        "colab_type": "code",
        "colab": {}
      },
      "source": [
        "from imblearn.over_sampling import SMOTE\n",
        "oversample = SMOTE()\n",
        "# transform the dataset\n",
        "X_train, y_train = oversample.fit_resample(X_train, y_train)\n",
        "X_test, y_test = oversample.fit_resample(X_test, y_test)"
      ],
      "execution_count": 0,
      "outputs": []
    },
    {
      "cell_type": "markdown",
      "metadata": {
        "id": "IDR0LwgbO5f-",
        "colab_type": "text"
      },
      "source": [
        "### Bidirection LSTM\n",
        "\n",
        "We use a very simply neural network. In NLP classification problems, it is common to use bidirectional recurrent neural networks since meaning depends on words appearing early and late in sentences. LSTM cells are also a common choice in NLP since they can detect long-range dependencies in language, which regular RNN's cannot do."
      ]
    },
    {
      "cell_type": "code",
      "metadata": {
        "id": "l3q7_xtNLUqn",
        "colab_type": "code",
        "colab": {}
      },
      "source": [
        "model = Sequential()\n",
        "model.add(Embedding(top_words, 100, input_length=max_words))\n",
        "model.add(Bidirectional(LSTM(100,activation='relu',return_sequences=False),input_shape=(100, 1)))\n",
        "model.add(Dropout(0.5))\n",
        "model.add(Dense(len(df.columns)-1, activation='softmax'))"
      ],
      "execution_count": 0,
      "outputs": []
    },
    {
      "cell_type": "markdown",
      "metadata": {
        "id": "2qLsY7iHPpwF",
        "colab_type": "text"
      },
      "source": [
        "Finally, we fit our model and keep track of precision, recall, and F1 scores accross epochs."
      ]
    },
    {
      "cell_type": "code",
      "metadata": {
        "id": "RVDbM1COLwan",
        "colab_type": "code",
        "outputId": "04e5f0bd-6661-4c56-fd1e-3c54c7171112",
        "colab": {
          "base_uri": "https://localhost:8080/",
          "height": 394
        }
      },
      "source": [
        "from keras import backend as K\n",
        "\n",
        "def recall_m(y_true, y_pred):\n",
        "    true_positives = K.sum(K.round(K.clip(y_true * y_pred, 0, 1)))\n",
        "    possible_positives = K.sum(K.round(K.clip(y_true, 0, 1)))\n",
        "    recall = true_positives / (possible_positives + K.epsilon())\n",
        "    return recall\n",
        "\n",
        "def precision_m(y_true, y_pred):\n",
        "    true_positives = K.sum(K.round(K.clip(y_true * y_pred, 0, 1)))\n",
        "    predicted_positives = K.sum(K.round(K.clip(y_pred, 0, 1)))\n",
        "    precision = true_positives / (predicted_positives + K.epsilon())\n",
        "    return precision\n",
        "\n",
        "def f1_m(y_true, y_pred):\n",
        "    precision = precision_m(y_true, y_pred)\n",
        "    recall = recall_m(y_true, y_pred)\n",
        "    return 2*((precision*recall)/(precision+recall+K.epsilon()))\n",
        "\n",
        "# compile the model\n",
        "model.compile(optimizer='adam', loss='binary_crossentropy', metrics=['acc',f1_m,precision_m, recall_m])\n",
        "\n",
        "# fit the model\n",
        "history = model.fit(X_train, y_train, validation_data=(X_test, y_test), epochs=10, verbose=2)\n",
        "\n",
        "# evaluate the model\n",
        "#loss, accuracy, f1_score, precision, recall = model.evaluate(X_test, y_test, verbose=2)"
      ],
      "execution_count": 0,
      "outputs": [
        {
          "output_type": "stream",
          "text": [
            "Train on 26460 samples, validate on 26464 samples\n",
            "Epoch 1/10\n",
            " - 46s - loss: 0.5410 - acc: 0.7535 - f1_m: 0.0654 - precision_m: 0.4236 - recall_m: 0.0364 - val_loss: 0.5233 - val_acc: 0.7593 - val_f1_m: 0.1166 - val_precision_m: 0.5490 - val_recall_m: 0.0675\n",
            "Epoch 2/10\n",
            " - 45s - loss: 0.4926 - acc: 0.7691 - f1_m: 0.2662 - precision_m: 0.6440 - recall_m: 0.1727 - val_loss: 0.5077 - val_acc: 0.7635 - val_f1_m: 0.2665 - val_precision_m: 0.5561 - val_recall_m: 0.1799\n",
            "Epoch 3/10\n",
            " - 44s - loss: 0.4465 - acc: 0.7921 - f1_m: 0.4270 - precision_m: 0.6853 - recall_m: 0.3144 - val_loss: 0.5199 - val_acc: 0.7571 - val_f1_m: 0.3038 - val_precision_m: 0.5261 - val_recall_m: 0.2170\n",
            "Epoch 4/10\n",
            " - 44s - loss: 0.4058 - acc: 0.8149 - f1_m: 0.5286 - precision_m: 0.7237 - recall_m: 0.4204 - val_loss: 0.5469 - val_acc: 0.7506 - val_f1_m: 0.3518 - val_precision_m: 0.4931 - val_recall_m: 0.2764\n",
            "Epoch 5/10\n",
            " - 45s - loss: 0.3712 - acc: 0.8323 - f1_m: 0.5916 - precision_m: 0.7513 - recall_m: 0.4916 - val_loss: 0.5905 - val_acc: 0.7447 - val_f1_m: 0.3664 - val_precision_m: 0.4778 - val_recall_m: 0.2999\n",
            "Epoch 6/10\n",
            " - 44s - loss: 0.3378 - acc: 0.8487 - f1_m: 0.6441 - precision_m: 0.7777 - recall_m: 0.5527 - val_loss: 0.6489 - val_acc: 0.7396 - val_f1_m: 0.3661 - val_precision_m: 0.4634 - val_recall_m: 0.3050\n",
            "Epoch 7/10\n",
            " - 45s - loss: 0.3079 - acc: 0.8637 - f1_m: 0.6860 - precision_m: 0.8046 - recall_m: 0.6007 - val_loss: 0.7014 - val_acc: 0.7364 - val_f1_m: 0.3701 - val_precision_m: 0.4571 - val_recall_m: 0.3129\n",
            "Epoch 8/10\n",
            " - 45s - loss: 0.2846 - acc: 0.8744 - f1_m: 0.7161 - precision_m: 0.8184 - recall_m: 0.6392 - val_loss: 0.8072 - val_acc: 0.7293 - val_f1_m: 0.3826 - val_precision_m: 0.4438 - val_recall_m: 0.3379\n",
            "Epoch 9/10\n",
            " - 44s - loss: 0.2595 - acc: 0.8867 - f1_m: 0.7483 - precision_m: 0.8365 - recall_m: 0.6793 - val_loss: 0.8743 - val_acc: 0.7272 - val_f1_m: 0.3815 - val_precision_m: 0.4397 - val_recall_m: 0.3385\n",
            "Epoch 10/10\n",
            " - 44s - loss: 0.2387 - acc: 0.8959 - f1_m: 0.7709 - precision_m: 0.8521 - recall_m: 0.7059 - val_loss: 0.9799 - val_acc: 0.7211 - val_f1_m: 0.3832 - val_precision_m: 0.4282 - val_recall_m: 0.3480\n"
          ],
          "name": "stdout"
        }
      ]
    },
    {
      "cell_type": "markdown",
      "metadata": {
        "id": "d9QVnRAMP33M",
        "colab_type": "text"
      },
      "source": [
        "### Evaluation\n",
        "\n",
        "Now that we have trained our model, we can evaluate its accuracy. We plot the accuracy of our model using the test date. Note that accuracy and precision decays while recall and F1 drastically improve over epochs."
      ]
    },
    {
      "cell_type": "code",
      "metadata": {
        "id": "1djwsgHL9km7",
        "colab_type": "code",
        "outputId": "e6ba2f53-13e8-4fc5-f664-7149ba6466cb",
        "colab": {
          "base_uri": "https://localhost:8080/",
          "height": 295
        }
      },
      "source": [
        "import matplotlib.pyplot as plt\n",
        "plt.plot(history.history['val_f1_m'])\n",
        "plt.plot(history.history['val_acc'])\n",
        "plt.plot(history.history['val_precision_m'])\n",
        "plt.plot(history.history['val_recall_m'])\n",
        "plt.title('model accuracy')\n",
        "plt.ylabel('accuracy')\n",
        "plt.xlabel('epoch')\n",
        "plt.legend(['F1', 'Accuracy','Precision','Recall'], loc='upper left')\n",
        "plt.show()"
      ],
      "execution_count": 0,
      "outputs": [
        {
          "output_type": "display_data",
          "data": {
            "image/png": "[encoded data removed]",
            "text/plain": [
              "<Figure size 432x288 with 1 Axes>"
            ]
          },
          "metadata": {
            "tags": [],
            "needs_background": "light"
          }
        }
      ]
    },
    {
      "cell_type": "markdown",
      "metadata": {
        "id": "qiwpVeNOREnu",
        "colab_type": "text"
      },
      "source": [
        "Our confusion matrix shows that the correct label is most frequently assigned across all labels, but there is plenty of misclassification. Aside from non-optimal model selection and imbalanced data, we can reason that the data is very noisy (which we already knew), making it difficult for the model to learn from it. The number of messages used before oversampling was approximately 20000 out of the 1.3 million total messages in the data, and accuracy was still a problem. In conclusion, there is still a lot to improve upon in our cleaning methods and model selection."
      ]
    },
    {
      "cell_type": "code",
      "metadata": {
        "id": "FpDvLGoX9q0m",
        "colab_type": "code",
        "outputId": "3687cab0-4aec-417c-e21a-ffb9434c180a",
        "colab": {
          "base_uri": "https://localhost:8080/",
          "height": 513
        }
      },
      "source": [
        "from sklearn.metrics import confusion_matrix\n",
        "import seaborn as sns\n",
        "\n",
        "X = list(df.columns)\n",
        "print(X)\n",
        "\n",
        "y_pred = model.predict(X_test)\n",
        "y_pred_class = np.argmax(y_pred, axis = 1)\n",
        "y_true = np.argmax(y_test, axis = 1)\n",
        "\n",
        "confusion = confusion_matrix(y_true, y_pred_class)\n",
        "\n",
        "f, ax = plt.subplots(figsize= (12,8))\n",
        "sns.heatmap(confusion, annot = True, cmap = \"YlGnBu\", ax = ax, fmt= '.1f',xticklabels=X[1:], yticklabels=X[1:])\n",
        "\n",
        "plt.xlabel(\"Predicted Label\")\n",
        "plt.ylabel(\"True Label\")\n",
        "plt.title(\"Confusion Matrix\")\n",
        "\n",
        "plt.show()"
      ],
      "execution_count": 0,
      "outputs": [
        {
          "output_type": "display_data",
          "data": {
            "image/png": "[encoded data removed]",
            "text/plain": [
              "<Figure size 864x576 with 2 Axes>"
            ]
          },
          "metadata": {
            "tags": [],
            "needs_background": "light"
          }
        }
      ]
    }
  ]
}